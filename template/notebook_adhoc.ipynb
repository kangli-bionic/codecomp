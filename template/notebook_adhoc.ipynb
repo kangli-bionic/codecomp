{
 "cells": [
  {
   "cell_type": "code",
   "execution_count": 1,
   "metadata": {},
   "outputs": [
    {
     "name": "stdout",
     "output_type": "stream",
     "text": [
      "Index of a local minima is  2\n"
     ]
    }
   ],
   "source": [
    "# Python3 program to find a \n",
    "# local minima in an array \n",
    "\n",
    "# A binary search based function that \n",
    "# returns index of a local minima. \n",
    "def localMinUtil(arr, low, high, n): \n",
    "        \n",
    "    # Find index of middle element \n",
    "    mid = low + (high - low) // 2\n",
    "        \n",
    "    # Compare middle element with its \n",
    "    # neighbours (if neighbours exist) \n",
    "    if(mid == 0 or arr[mid - 1] > arr[mid] and\n",
    "    mid == n - 1 or arr[mid] < arr[mid + 1]): \n",
    "        return mid \n",
    "        \n",
    "    # If middle element is not minima and its left \n",
    "    # neighbour is smaller than it, then left half \n",
    "    # must have a local minima. \n",
    "    elif(mid > 0 and arr[mid - 1] < arr[mid]): \n",
    "        return localMinUtil(arr, low, mid - 1, n) \n",
    "        \n",
    "    # If middle element is not minima and its right \n",
    "    # neighbour is smaller than it, then right half \n",
    "    # must have a local minima. \n",
    "    return localMinUtil(arr, mid + 1, high, n) \n",
    "    \n",
    "# A wrapper over recursive function localMinUtil() \n",
    "def localMin(arr, n): \n",
    "    \n",
    "    return localMinUtil(arr, 0, n - 1, n) \n",
    "    \n",
    "# Driver code \n",
    "arr = [4, 3, 1, 14, 16, 40] \n",
    "n = len(arr) \n",
    "print(\"Index of a local minima is \" , \n",
    "                    localMin(arr, n)) \n",
    "                    \n",
    "# This code is contributed by Anant Agarwal. \n"
   ]
  },
  {
   "cell_type": "code",
   "execution_count": null,
   "metadata": {},
   "outputs": [],
   "source": []
  }
 ],
 "metadata": {
  "kernelspec": {
   "display_name": "Python 3",
   "language": "python",
   "name": "python3"
  },
  "language_info": {
   "codemirror_mode": {
    "name": "ipython",
    "version": 3
   },
   "file_extension": ".py",
   "mimetype": "text/x-python",
   "name": "python",
   "nbconvert_exporter": "python",
   "pygments_lexer": "ipython3",
   "version": "3.7.9"
  }
 },
 "nbformat": 4,
 "nbformat_minor": 4
}
