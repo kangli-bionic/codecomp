{
 "cells": [
  {
   "cell_type": "code",
   "execution_count": 18,
   "metadata": {},
   "outputs": [],
   "source": [
    "# %reset -sf"
   ]
  },
  {
   "cell_type": "code",
   "execution_count": 19,
   "metadata": {},
   "outputs": [],
   "source": [
    "# import matplotlib.pyplot as plt"
   ]
  },
  {
   "cell_type": "code",
   "execution_count": 20,
   "metadata": {},
   "outputs": [],
   "source": [
    "import sys\n",
    "import numpy as np\n",
    "import pandas as pd\n",
    "import lightgbm as lgb\n",
    "\n",
    "DEBUG = True"
   ]
  },
  {
   "cell_type": "code",
   "execution_count": 21,
   "metadata": {},
   "outputs": [],
   "source": [
    "if DEBUG:\n",
    "    with open(\"g0\", \"r\") as f:\n",
    "        lines = f.readlines()\n",
    "else:\n",
    "    sys.stdin.readlines()"
   ]
  },
  {
   "cell_type": "code",
   "execution_count": 22,
   "metadata": {},
   "outputs": [],
   "source": [
    "n,m = [int(x) for x in lines[0].split()]\n",
    "train_data = []\n",
    "for line in lines[1:n+1]:\n",
    "    lst = [list(map(int,x.split(\":\"))) for x in line.split()]\n",
    "    train_data.append([[x[0] for x in lst], [x[1] for x in lst]])\n",
    "targets = []\n",
    "for line in lines[n+1:n+1+n]:\n",
    "    targets.append(int(line))\n",
    "test_data = []\n",
    "for line in lines[n+1+n:n+1+n+m]:\n",
    "    lst = [list(map(int,x.split(\":\"))) for x in line.split()]\n",
    "    test_data.append([[x[0] for x in lst], [x[1] for x in lst]])"
   ]
  },
  {
   "cell_type": "code",
   "execution_count": 23,
   "metadata": {},
   "outputs": [],
   "source": [
    "def process_data(dataset):\n",
    "    processed = []\n",
    "    for loc,time in dataset:\n",
    "        time = [0] + [b-a for a,b in zip(time, time[1:])]*200\n",
    "        time = time[:200]\n",
    "        loc = loc*200\n",
    "        loc = loc[:200]\n",
    "        processed.append(time + loc)\n",
    "    return processed"
   ]
  },
  {
   "cell_type": "code",
   "execution_count": 24,
   "metadata": {},
   "outputs": [],
   "source": [
    "train_data_p = process_data(train_data)\n",
    "test_data_p = process_data(test_data)\n",
    "target_train = np.array(targets)\n",
    "df_train = pd.DataFrame(train_data_p)\n",
    "df_test = pd.DataFrame(test_data_p)"
   ]
  },
  {
   "cell_type": "code",
   "execution_count": 25,
   "metadata": {},
   "outputs": [
    {
     "name": "stdout",
     "output_type": "stream",
     "text": [
      "7000 400\n",
      "[0, 0, 11964, 18432, 15014, 15997, 19877, 12008, 17033, 0, 11964, 18432, 15014, 15997, 19877, 12008, 17033, 0, 11964, 18432, 15014, 15997, 19877, 12008, 17033, 0, 11964, 18432, 15014, 15997, 19877, 12008, 17033, 0, 11964, 18432, 15014, 15997, 19877, 12008, 17033, 0, 11964, 18432, 15014, 15997, 19877, 12008, 17033, 0, 11964, 18432, 15014, 15997, 19877, 12008, 17033, 0, 11964, 18432, 15014, 15997, 19877, 12008, 17033, 0, 11964, 18432, 15014, 15997, 19877, 12008, 17033, 0, 11964, 18432, 15014, 15997, 19877, 12008, 17033, 0, 11964, 18432, 15014, 15997, 19877, 12008, 17033, 0, 11964, 18432, 15014, 15997, 19877, 12008, 17033, 0, 11964, 18432, 15014, 15997, 19877, 12008, 17033, 0, 11964, 18432, 15014, 15997, 19877, 12008, 17033, 0, 11964, 18432, 15014, 15997, 19877, 12008, 17033, 0, 11964, 18432, 15014, 15997, 19877, 12008, 17033, 0, 11964, 18432, 15014, 15997, 19877, 12008, 17033, 0, 11964, 18432, 15014, 15997, 19877, 12008, 17033, 0, 11964, 18432, 15014, 15997, 19877, 12008, 17033, 0, 11964, 18432, 15014, 15997, 19877, 12008, 17033, 0, 11964, 18432, 15014, 15997, 19877, 12008, 17033, 0, 11964, 18432, 15014, 15997, 19877, 12008, 17033, 0, 11964, 18432, 15014, 15997, 19877, 12008, 17033, 0, 11964, 18432, 15014, 15997, 19877, 12008, 17033, 0, 11964, 18432, 15014, 15997, 19877, 12008, 1, 2, 0, 0, 0, 0, 2, 0, 0, 1, 2, 0, 0, 0, 0, 2, 0, 0, 1, 2, 0, 0, 0, 0, 2, 0, 0, 1, 2, 0, 0, 0, 0, 2, 0, 0, 1, 2, 0, 0, 0, 0, 2, 0, 0, 1, 2, 0, 0, 0, 0, 2, 0, 0, 1, 2, 0, 0, 0, 0, 2, 0, 0, 1, 2, 0, 0, 0, 0, 2, 0, 0, 1, 2, 0, 0, 0, 0, 2, 0, 0, 1, 2, 0, 0, 0, 0, 2, 0, 0, 1, 2, 0, 0, 0, 0, 2, 0, 0, 1, 2, 0, 0, 0, 0, 2, 0, 0, 1, 2, 0, 0, 0, 0, 2, 0, 0, 1, 2, 0, 0, 0, 0, 2, 0, 0, 1, 2, 0, 0, 0, 0, 2, 0, 0, 1, 2, 0, 0, 0, 0, 2, 0, 0, 1, 2, 0, 0, 0, 0, 2, 0, 0, 1, 2, 0, 0, 0, 0, 2, 0, 0, 1, 2, 0, 0, 0, 0, 2, 0, 0, 1, 2, 0, 0, 0, 0, 2, 0, 0, 1, 2, 0, 0, 0, 0, 2, 0, 0, 1, 2, 0, 0, 0, 0, 2, 0, 0, 1, 2]\n"
     ]
    }
   ],
   "source": [
    "print(len(train_data_p), len(train_data_p[0]))\n",
    "print(train_data_p[0])  # 200 indexes and 200 time intervals"
   ]
  },
  {
   "cell_type": "code",
   "execution_count": 26,
   "metadata": {},
   "outputs": [],
   "source": [
    "eval_set = np.array([True if i < len(df_train)*0.2 else False for i in range(len(df_train))])\n",
    "lgb_train = lgb.Dataset(df_train[~eval_set], target_train[~eval_set])\n",
    "lgb_eval = lgb.Dataset(df_train[eval_set], target_train[eval_set], reference=lgb_train)\n",
    "lgb_all = lgb.Dataset(df_train, target_train)"
   ]
  },
  {
   "cell_type": "code",
   "execution_count": 27,
   "metadata": {},
   "outputs": [],
   "source": [
    "params = {\n",
    "#     'boosting_type': 'gbdt',\n",
    "    'objective': 'binary',\n",
    "    'verbose': -1,\n",
    "#     'metric': {'auc'},\n",
    "#     'num_leaves': 15,\n",
    "#     'learning_rate': 0.05,\n",
    "#     'feature_fraction': 0.9,\n",
    "#     'bagging_fraction': 0.8,\n",
    "#     'bagging_freq': 5,\n",
    "#     'verbose': 1,\n",
    "}\n",
    "\n",
    "\n",
    "gbm = lgb.train(params,\n",
    "                lgb_train,\n",
    "#                 num_boost_round=1000,\n",
    "                valid_sets=lgb_eval,\n",
    "                verbose_eval=False,\n",
    "                early_stopping_rounds=5)"
   ]
  },
  {
   "cell_type": "code",
   "execution_count": 28,
   "metadata": {},
   "outputs": [],
   "source": [
    "# gbm = lgb.train(params,\n",
    "#                 lgb_all,\n",
    "# #                 num_boost_round=1000,\n",
    "# #                 valid_sets=lgb_eval,\n",
    "#                 verbose_eval=10,\n",
    "# #                 early_stopping_rounds=5\n",
    "#                )"
   ]
  },
  {
   "cell_type": "code",
   "execution_count": 29,
   "metadata": {},
   "outputs": [],
   "source": [
    "pred_test = gbm.predict(df_test, num_iteration=gbm.best_iteration)"
   ]
  },
  {
   "cell_type": "code",
   "execution_count": 30,
   "metadata": {},
   "outputs": [],
   "source": [
    "# plt.hist(pred_test)"
   ]
  },
  {
   "cell_type": "code",
   "execution_count": 31,
   "metadata": {},
   "outputs": [],
   "source": [
    "res = [int(x > 0.5) for x in pred_test]\n",
    "if not DEBUG:\n",
    "    print(\"\\n\".join(str(x) for x in res))"
   ]
  },
  {
   "cell_type": "code",
   "execution_count": 32,
   "metadata": {},
   "outputs": [],
   "source": [
    "# !jupyter nbconvert --to script *.ipynb"
   ]
  },
  {
   "cell_type": "code",
   "execution_count": null,
   "metadata": {},
   "outputs": [],
   "source": []
  },
  {
   "cell_type": "code",
   "execution_count": null,
   "metadata": {},
   "outputs": [],
   "source": []
  }
 ],
 "metadata": {
  "kernelspec": {
   "display_name": "Python 3",
   "language": "python",
   "name": "python3"
  },
  "language_info": {
   "codemirror_mode": {
    "name": "ipython",
    "version": 3
   },
   "file_extension": ".py",
   "mimetype": "text/x-python",
   "name": "python",
   "nbconvert_exporter": "python",
   "pygments_lexer": "ipython3",
   "version": "3.6.9"
  }
 },
 "nbformat": 4,
 "nbformat_minor": 4
}
